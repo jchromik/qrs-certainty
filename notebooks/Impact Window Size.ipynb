{
 "cells": [
  {
   "cell_type": "code",
   "execution_count": 1,
   "metadata": {},
   "outputs": [],
   "source": [
    "import sys\n",
    "sys.path.append(\"..\")"
   ]
  },
  {
   "cell_type": "code",
   "execution_count": 2,
   "metadata": {},
   "outputs": [],
   "source": [
    "import wfdb\n",
    "\n",
    "from raccoon.utils.annotationutils import trigger_points\n",
    "\n",
    "def read_record(path, sampto):\n",
    "    record = wfdb.rdrecord(path, sampto=sampto)\n",
    "    annotation = wfdb.rdann(path, 'atr', sampto=sampto)\n",
    "    positions, labels = trigger_points(annotation, with_labels=True)\n",
    "    return record, positions, labels\n",
    "\n",
    "def read_records(directory, names, sampto):\n",
    "    records, positions, labels = [], [],  []\n",
    "    for name in names:\n",
    "        path = \"/\".join([directory, name])\n",
    "        record, pos, labs = read_record(path, sampto)\n",
    "        records.append(record)\n",
    "        positions.append(pos)\n",
    "        labels.append(labs)\n",
    "    return records, positions, labels"
   ]
  },
  {
   "cell_type": "code",
   "execution_count": 3,
   "metadata": {},
   "outputs": [],
   "source": [
    "record_dir = \"../physionet.org/files/mitdb/1.0.0\"\n",
    "test_path = '/'.join([record_dir, '106'])\n",
    "train_names = [\"100\", \"101\", \"102\", \"103\", \"104\"]\n",
    "sampto = 10000\n",
    "\n",
    "train_records, train_positions, train_labels = read_records(record_dir, train_names, sampto)\n",
    "test_record, test_positions, test_labels = read_record(test_path, sampto)"
   ]
  },
  {
   "cell_type": "code",
   "execution_count": 4,
   "metadata": {},
   "outputs": [
    {
     "name": "stderr",
     "output_type": "stream",
     "text": [
      "Using TensorFlow backend.\n",
      "/home/Jonas.Chromik/.local/lib/python3.7/site-packages/tensorflow/python/framework/dtypes.py:526: FutureWarning: Passing (type, 1) or '1type' as a synonym of type is deprecated; in a future version of numpy, it will be understood as (type, (1,)) / '(1,)type'.\n",
      "  _np_qint8 = np.dtype([(\"qint8\", np.int8, 1)])\n",
      "/home/Jonas.Chromik/.local/lib/python3.7/site-packages/tensorflow/python/framework/dtypes.py:527: FutureWarning: Passing (type, 1) or '1type' as a synonym of type is deprecated; in a future version of numpy, it will be understood as (type, (1,)) / '(1,)type'.\n",
      "  _np_quint8 = np.dtype([(\"quint8\", np.uint8, 1)])\n",
      "/home/Jonas.Chromik/.local/lib/python3.7/site-packages/tensorflow/python/framework/dtypes.py:528: FutureWarning: Passing (type, 1) or '1type' as a synonym of type is deprecated; in a future version of numpy, it will be understood as (type, (1,)) / '(1,)type'.\n",
      "  _np_qint16 = np.dtype([(\"qint16\", np.int16, 1)])\n",
      "/home/Jonas.Chromik/.local/lib/python3.7/site-packages/tensorflow/python/framework/dtypes.py:529: FutureWarning: Passing (type, 1) or '1type' as a synonym of type is deprecated; in a future version of numpy, it will be understood as (type, (1,)) / '(1,)type'.\n",
      "  _np_quint16 = np.dtype([(\"quint16\", np.uint16, 1)])\n",
      "/home/Jonas.Chromik/.local/lib/python3.7/site-packages/tensorflow/python/framework/dtypes.py:530: FutureWarning: Passing (type, 1) or '1type' as a synonym of type is deprecated; in a future version of numpy, it will be understood as (type, (1,)) / '(1,)type'.\n",
      "  _np_qint32 = np.dtype([(\"qint32\", np.int32, 1)])\n",
      "/home/Jonas.Chromik/.local/lib/python3.7/site-packages/tensorflow/python/framework/dtypes.py:535: FutureWarning: Passing (type, 1) or '1type' as a synonym of type is deprecated; in a future version of numpy, it will be understood as (type, (1,)) / '(1,)type'.\n",
      "  np_resource = np.dtype([(\"resource\", np.ubyte, 1)])\n"
     ]
    },
    {
     "name": "stdout",
     "output_type": "stream",
     "text": [
      "WARNING:tensorflow:From /home/Jonas.Chromik/.local/lib/python3.7/site-packages/tensorflow/python/framework/op_def_library.py:263: colocate_with (from tensorflow.python.framework.ops) is deprecated and will be removed in a future version.\n",
      "Instructions for updating:\n",
      "Colocations handled automatically by placer.\n",
      "WARNING:tensorflow:From /home/Jonas.Chromik/.local/lib/python3.7/site-packages/tensorflow/python/ops/math_ops.py:3066: to_int32 (from tensorflow.python.ops.math_ops) is deprecated and will be removed in a future version.\n",
      "Instructions for updating:\n",
      "Use tf.cast instead.\n",
      "Epoch 1/3\n",
      "1561/1561 [==============================] - 3s 2ms/step - loss: 0.0983\n",
      "Epoch 2/3\n",
      "1561/1561 [==============================] - 2s 1ms/step - loss: 0.0258\n",
      "Epoch 3/3\n",
      "1561/1561 [==============================] - 2s 1ms/step - loss: 0.0268\n",
      "Epoch 1/3\n",
      "1561/1561 [==============================] - 2s 1ms/step - loss: 0.0767\n",
      "Epoch 2/3\n",
      "\n",
      "1561/1561 [==============================] - 2s 1ms/step - loss: 0.0354\n",
      "Epoch 3/3\n",
      "1561/1561 [==============================] - 2s 1ms/step - loss: 0.0323\n",
      "Epoch 1/3\n",
      "1560/1560 [==============================] - 2s 1ms/step - loss: 0.0778\n",
      "Epoch 2/3\n",
      "\n",
      "1560/1560 [==============================] - 2s 1ms/step - loss: 0.0346\n",
      "Epoch 3/3\n",
      "1560/1560 [==============================] - 2s 1ms/step - loss: 0.0310\n",
      "Epoch 1/3\n",
      "1559/1559 [==============================] - 2s 1ms/step - loss: 0.0984\n",
      "Epoch 2/3\n",
      "1559/1559 [==============================] - 2s 1ms/step - loss: 0.0424\n",
      "Epoch 3/3\n",
      "1559/1559 [==============================] - 2s 1ms/step - loss: 0.0377\n",
      "Epoch 1/3\n",
      "1558/1558 [==============================] - 2s 2ms/step - loss: 0.0906\n",
      "Epoch 2/3\n",
      "\n",
      "1558/1558 [==============================] - 2s 1ms/step - loss: 0.0421\n",
      "Epoch 3/3\n",
      "1558/1558 [==============================] - 2s 1ms/step - loss: 0.0382\n",
      "Epoch 1/3\n",
      "1557/1557 [==============================] - 2s 2ms/step - loss: 0.1021\n",
      "Epoch 2/3\n",
      "\n",
      "1557/1557 [==============================] - 2s 1ms/step - loss: 0.0459\n",
      "Epoch 3/3\n",
      "1557/1557 [==============================] - 2s 1ms/step - loss: 0.0399\n",
      "Epoch 1/3\n",
      "1557/1557 [==============================] - 3s 2ms/step - loss: 0.0977\n",
      "Epoch 2/3\n",
      "\n",
      "1557/1557 [==============================] - 2s 1ms/step - loss: 0.0432\n",
      "Epoch 3/3\n",
      "1557/1557 [==============================] - 2s 1ms/step - loss: 0.0355\n",
      "Epoch 1/3\n",
      "1556/1556 [==============================] - 3s 2ms/step - loss: 0.1029\n",
      "Epoch 2/3\n",
      "\n",
      "1556/1556 [==============================] - 2s 1ms/step - loss: 0.0449\n",
      "Epoch 3/3\n",
      "1556/1556 [==============================] - 2s 1ms/step - loss: 0.0369\n",
      "Epoch 1/3\n",
      "1555/1555 [==============================] - 3s 2ms/step - loss: 0.1075\n",
      "Epoch 2/3\n",
      "\n",
      "1555/1555 [==============================] - 2s 1ms/step - loss: 0.0431\n",
      "Epoch 3/3\n",
      "1555/1555 [==============================] - 2s 2ms/step - loss: 0.0393\n",
      "Epoch 1/3\n",
      "1554/1554 [==============================] - 3s 2ms/step - loss: 0.1183\n",
      "Epoch 2/3\n",
      "\n",
      "1554/1554 [==============================] - 2s 2ms/step - loss: 0.0513\n",
      "Epoch 3/3\n",
      "1554/1554 [==============================] - 2s 2ms/step - loss: 0.0423\n"
     ]
    }
   ],
   "source": [
    "from raccoon.detectors import GarciaBerdonesDetector\n",
    "\n",
    "rng = range(5, 51, 5)\n",
    "\n",
    "detectors = [\n",
    "    GarciaBerdonesDetector(\n",
    "        name = str(ws),\n",
    "        batch_size = 32,\n",
    "        window_size = ws,\n",
    "        epochs = 3)\n",
    "    for ws in rng]\n",
    "\n",
    "for d in detectors:\n",
    "    d.train(train_records, train_positions)"
   ]
  },
  {
   "cell_type": "code",
   "execution_count": 5,
   "metadata": {},
   "outputs": [],
   "source": [
    "from raccoon.utils.triggerutils import signal_to_points\n",
    "\n",
    "trigger_signals = [d.trigger_signal(test_record) for d in detectors]\n",
    "certainties = [signal_to_points(ts, with_certainty=True)[1] for ts in trigger_signals]"
   ]
  },
  {
   "cell_type": "code",
   "execution_count": 6,
   "metadata": {},
   "outputs": [],
   "source": [
    "import pandas as pd\n",
    "\n",
    "df = pd.DataFrame([])\n",
    "\n",
    "for c, ws in zip(certainties, rng):\n",
    "    temp_df = pd.DataFrame(c, columns=['Certainty'])\n",
    "    temp_df['Window Size'] = ws\n",
    "    df = df.append(temp_df)"
   ]
  },
  {
   "cell_type": "code",
   "execution_count": 11,
   "metadata": {},
   "outputs": [],
   "source": [
    "from functools import partial\n",
    "import numpy as np\n",
    "\n",
    "grouped = df.groupby('Window Size')\n",
    "medians = grouped.aggregate(np.median)\n",
    "perc_5 = grouped.aggregate(partial(np.percentile, q=25))\n",
    "perc_95 = grouped.aggregate(partial(np.percentile, q=75))"
   ]
  },
  {
   "cell_type": "code",
   "execution_count": 12,
   "metadata": {},
   "outputs": [
    {
     "data": {
      "text/plain": [
       "<matplotlib.axes._subplots.AxesSubplot at 0x7fecd0422090>"
      ]
     },
     "execution_count": 12,
     "metadata": {},
     "output_type": "execute_result"
    },
    {
     "data": {
      "image/png": "[encoded data removed]",
      "text/plain": [
       "<Figure size 720x360 with 1 Axes>"
      ]
     },
     "metadata": {
      "needs_background": "light"
     },
     "output_type": "display_data"
    }
   ],
   "source": [
    "from matplotlib import pyplot as plt\n",
    "\n",
    "fig, ax = plt.subplots()\n",
    "fig.set_size_inches(10, 5)\n",
    "\n",
    "ax.plot(medians)\n",
    "ax.fill_between(perc_5.index, perc_5.Certainty, perc_95.Certainty, alpha=.1)\n",
    "\n",
    "ax.set_ylim(0,1)\n",
    "ax.set_xlabel(\"\")\n",
    "ax.set_title(\"Certainty in Different Beat Types\")\n",
    "fig.suptitle(\"\")\n",
    "\n",
    "ax"
   ]
  },
  {
   "cell_type": "code",
   "execution_count": null,
   "metadata": {},
   "outputs": [],
   "source": []
  }
 ],
 "metadata": {
  "kernelspec": {
   "display_name": "Python 3",
   "language": "python",
   "name": "python3"
  },
  "language_info": {
   "codemirror_mode": {
    "name": "ipython",
    "version": 3
   },
   "file_extension": ".py",
   "mimetype": "text/x-python",
   "name": "python",
   "nbconvert_exporter": "python",
   "pygments_lexer": "ipython3",
   "version": "3.7.5"
  }
 },
 "nbformat": 4,
 "nbformat_minor": 4
}
