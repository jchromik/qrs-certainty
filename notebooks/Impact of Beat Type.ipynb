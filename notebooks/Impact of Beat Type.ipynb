{
 "cells": [
  {
   "cell_type": "code",
   "execution_count": 1,
   "metadata": {},
   "outputs": [],
   "source": [
    "import sys\n",
    "sys.path.append(\"..\")"
   ]
  },
  {
   "cell_type": "code",
   "execution_count": 2,
   "metadata": {},
   "outputs": [],
   "source": [
    "import wfdb\n",
    "\n",
    "from raccoon.utils.annotationutils import trigger_points\n",
    "\n",
    "def read_record(path, sampto):\n",
    "    record = wfdb.rdrecord(path, sampto=sampto)\n",
    "    annotation = wfdb.rdann(path, 'atr', sampto=sampto)\n",
    "    positions, labels = trigger_points(annotation, with_labels=True)\n",
    "    return record, positions, labels\n",
    "\n",
    "def read_records(directory, names, sampto):\n",
    "    records, positions, labels = [], [],  []\n",
    "    for name in names:\n",
    "        path = \"/\".join([directory, name])\n",
    "        record, pos, labs = read_record(path, sampto)\n",
    "        records.append(record)\n",
    "        positions.append(pos)\n",
    "        labels.append(labs)\n",
    "    return records, positions, labels"
   ]
  },
  {
   "cell_type": "code",
   "execution_count": 3,
   "metadata": {},
   "outputs": [],
   "source": [
    "record_dir = \"../physionet.org/files/mitdb/1.0.0\"\n",
    "test_path = '/'.join([record_dir, '106'])\n",
    "train_names = [\"100\", \"101\", \"102\", \"103\", \"104\"]\n",
    "sampto = None\n",
    "\n",
    "train_records, train_positions, train_labels = read_records(record_dir, train_names, sampto)\n",
    "test_record, test_positions, test_labels = read_record(test_path, sampto)"
   ]
  },
  {
   "cell_type": "code",
   "execution_count": 4,
   "metadata": {},
   "outputs": [
    {
     "name": "stderr",
     "output_type": "stream",
     "text": [
      "Using TensorFlow backend.\n",
      "/home/Jonas.Chromik/.local/lib/python3.7/site-packages/tensorflow/python/framework/dtypes.py:526: FutureWarning: Passing (type, 1) or '1type' as a synonym of type is deprecated; in a future version of numpy, it will be understood as (type, (1,)) / '(1,)type'.\n",
      "  _np_qint8 = np.dtype([(\"qint8\", np.int8, 1)])\n",
      "/home/Jonas.Chromik/.local/lib/python3.7/site-packages/tensorflow/python/framework/dtypes.py:527: FutureWarning: Passing (type, 1) or '1type' as a synonym of type is deprecated; in a future version of numpy, it will be understood as (type, (1,)) / '(1,)type'.\n",
      "  _np_quint8 = np.dtype([(\"quint8\", np.uint8, 1)])\n",
      "/home/Jonas.Chromik/.local/lib/python3.7/site-packages/tensorflow/python/framework/dtypes.py:528: FutureWarning: Passing (type, 1) or '1type' as a synonym of type is deprecated; in a future version of numpy, it will be understood as (type, (1,)) / '(1,)type'.\n",
      "  _np_qint16 = np.dtype([(\"qint16\", np.int16, 1)])\n",
      "/home/Jonas.Chromik/.local/lib/python3.7/site-packages/tensorflow/python/framework/dtypes.py:529: FutureWarning: Passing (type, 1) or '1type' as a synonym of type is deprecated; in a future version of numpy, it will be understood as (type, (1,)) / '(1,)type'.\n",
      "  _np_quint16 = np.dtype([(\"quint16\", np.uint16, 1)])\n",
      "/home/Jonas.Chromik/.local/lib/python3.7/site-packages/tensorflow/python/framework/dtypes.py:530: FutureWarning: Passing (type, 1) or '1type' as a synonym of type is deprecated; in a future version of numpy, it will be understood as (type, (1,)) / '(1,)type'.\n",
      "  _np_qint32 = np.dtype([(\"qint32\", np.int32, 1)])\n",
      "/home/Jonas.Chromik/.local/lib/python3.7/site-packages/tensorflow/python/framework/dtypes.py:535: FutureWarning: Passing (type, 1) or '1type' as a synonym of type is deprecated; in a future version of numpy, it will be understood as (type, (1,)) / '(1,)type'.\n",
      "  np_resource = np.dtype([(\"resource\", np.ubyte, 1)])\n"
     ]
    },
    {
     "name": "stdout",
     "output_type": "stream",
     "text": [
      "WARNING:tensorflow:From /home/Jonas.Chromik/.local/lib/python3.7/site-packages/tensorflow/python/framework/op_def_library.py:263: colocate_with (from tensorflow.python.framework.ops) is deprecated and will be removed in a future version.\n",
      "Instructions for updating:\n",
      "Colocations handled automatically by placer.\n",
      "WARNING:tensorflow:From /home/Jonas.Chromik/.local/lib/python3.7/site-packages/tensorflow/python/ops/math_ops.py:3066: to_int32 (from tensorflow.python.ops.math_ops) is deprecated and will be removed in a future version.\n",
      "Instructions for updating:\n",
      "Use tf.cast instead.\n",
      "Epoch 1/3\n",
      "101559/101559 [==============================] - 129s 1ms/step - loss: 0.0293\n",
      "Epoch 2/3\n",
      "101559/101559 [==============================] - 127s 1ms/step - loss: 0.0263\n",
      "Epoch 3/3\n",
      "101559/101559 [==============================] - 128s 1ms/step - loss: 0.0285\n"
     ]
    }
   ],
   "source": [
    "from raccoon.detectors import GarciaBerdonesDetector\n",
    "\n",
    "detector = GarciaBerdonesDetector(\n",
    "    name = \"GarciaBerdones01\",\n",
    "    batch_size = 32,\n",
    "    window_size = 20,\n",
    "    epochs = 3)\n",
    "\n",
    "detector.train(train_records, train_positions)"
   ]
  },
  {
   "cell_type": "code",
   "execution_count": 5,
   "metadata": {},
   "outputs": [],
   "source": [
    "trigger_signal = detector.trigger_signal(test_record)"
   ]
  },
  {
   "cell_type": "code",
   "execution_count": 6,
   "metadata": {},
   "outputs": [],
   "source": [
    "from raccoon.utils.triggerutils import signal_to_points\n",
    "\n",
    "detections, certainties = signal_to_points(trigger_signal, with_certainty=True)"
   ]
  },
  {
   "cell_type": "code",
   "execution_count": 7,
   "metadata": {},
   "outputs": [],
   "source": [
    "import numpy as np\n",
    "\n",
    "cert_dict = dict(zip(detections, certainties))\n",
    "\n",
    "abbr = {'N': 'Normal Beat', 'V': 'Premature Ventricular Contraction'}\n",
    "label_dict = dict(zip(test_positions, [abbr[l] for l in test_labels]))\n",
    "label_dict[np.nan] = 'False Positive'"
   ]
  },
  {
   "cell_type": "code",
   "execution_count": 8,
   "metadata": {},
   "outputs": [],
   "source": [
    "from raccoon.utils.evaluationutils import merge\n",
    "import pandas as pd\n",
    "\n",
    "df = pd.DataFrame(\n",
    "    list(merge(test_positions, detections, tolerance=3)),\n",
    "    columns=[\"Position\", \"Detection\", \"Error\"])\n",
    "\n",
    "df[\"Certainty\"] = df.Detection.map(cert_dict)\n",
    "df[\"Label\"] = df.Position.map(label_dict)"
   ]
  },
  {
   "cell_type": "code",
   "execution_count": 9,
   "metadata": {},
   "outputs": [
    {
     "data": {
      "text/html": [
       "<div>\n",
       "<style scoped>\n",
       "    .dataframe tbody tr th:only-of-type {\n",
       "        vertical-align: middle;\n",
       "    }\n",
       "\n",
       "    .dataframe tbody tr th {\n",
       "        vertical-align: top;\n",
       "    }\n",
       "\n",
       "    .dataframe thead th {\n",
       "        text-align: right;\n",
       "    }\n",
       "</style>\n",
       "<table border=\"1\" class=\"dataframe\">\n",
       "  <thead>\n",
       "    <tr style=\"text-align: right;\">\n",
       "      <th></th>\n",
       "      <th>Position</th>\n",
       "      <th>Detection</th>\n",
       "      <th>Error</th>\n",
       "      <th>Certainty</th>\n",
       "      <th>Label</th>\n",
       "    </tr>\n",
       "  </thead>\n",
       "  <tbody>\n",
       "    <tr>\n",
       "      <th>0</th>\n",
       "      <td>351.0</td>\n",
       "      <td>351.0</td>\n",
       "      <td>TP</td>\n",
       "      <td>0.999986</td>\n",
       "      <td>Normal Beat</td>\n",
       "    </tr>\n",
       "    <tr>\n",
       "      <th>1</th>\n",
       "      <td>724.0</td>\n",
       "      <td>724.0</td>\n",
       "      <td>TP</td>\n",
       "      <td>0.997683</td>\n",
       "      <td>Normal Beat</td>\n",
       "    </tr>\n",
       "    <tr>\n",
       "      <th>2</th>\n",
       "      <td>1086.0</td>\n",
       "      <td>1086.0</td>\n",
       "      <td>TP</td>\n",
       "      <td>0.999993</td>\n",
       "      <td>Normal Beat</td>\n",
       "    </tr>\n",
       "    <tr>\n",
       "      <th>3</th>\n",
       "      <td>1448.0</td>\n",
       "      <td>1448.0</td>\n",
       "      <td>TP</td>\n",
       "      <td>0.999982</td>\n",
       "      <td>Normal Beat</td>\n",
       "    </tr>\n",
       "    <tr>\n",
       "      <th>4</th>\n",
       "      <td>1829.0</td>\n",
       "      <td>1829.0</td>\n",
       "      <td>TP</td>\n",
       "      <td>0.999988</td>\n",
       "      <td>Normal Beat</td>\n",
       "    </tr>\n",
       "    <tr>\n",
       "      <th>...</th>\n",
       "      <td>...</td>\n",
       "      <td>...</td>\n",
       "      <td>...</td>\n",
       "      <td>...</td>\n",
       "      <td>...</td>\n",
       "    </tr>\n",
       "    <tr>\n",
       "      <th>2625</th>\n",
       "      <td>NaN</td>\n",
       "      <td>645464.0</td>\n",
       "      <td>FP</td>\n",
       "      <td>0.956444</td>\n",
       "      <td>False Positive</td>\n",
       "    </tr>\n",
       "    <tr>\n",
       "      <th>2626</th>\n",
       "      <td>NaN</td>\n",
       "      <td>645483.0</td>\n",
       "      <td>FP</td>\n",
       "      <td>0.857888</td>\n",
       "      <td>False Positive</td>\n",
       "    </tr>\n",
       "    <tr>\n",
       "      <th>2627</th>\n",
       "      <td>NaN</td>\n",
       "      <td>646091.0</td>\n",
       "      <td>FP</td>\n",
       "      <td>0.948910</td>\n",
       "      <td>False Positive</td>\n",
       "    </tr>\n",
       "    <tr>\n",
       "      <th>2628</th>\n",
       "      <td>NaN</td>\n",
       "      <td>647876.0</td>\n",
       "      <td>FP</td>\n",
       "      <td>0.950633</td>\n",
       "      <td>False Positive</td>\n",
       "    </tr>\n",
       "    <tr>\n",
       "      <th>2629</th>\n",
       "      <td>NaN</td>\n",
       "      <td>649254.0</td>\n",
       "      <td>FP</td>\n",
       "      <td>0.898795</td>\n",
       "      <td>False Positive</td>\n",
       "    </tr>\n",
       "  </tbody>\n",
       "</table>\n",
       "<p>2630 rows × 5 columns</p>\n",
       "</div>"
      ],
      "text/plain": [
       "      Position  Detection Error  Certainty           Label\n",
       "0        351.0      351.0    TP   0.999986     Normal Beat\n",
       "1        724.0      724.0    TP   0.997683     Normal Beat\n",
       "2       1086.0     1086.0    TP   0.999993     Normal Beat\n",
       "3       1448.0     1448.0    TP   0.999982     Normal Beat\n",
       "4       1829.0     1829.0    TP   0.999988     Normal Beat\n",
       "...        ...        ...   ...        ...             ...\n",
       "2625       NaN   645464.0    FP   0.956444  False Positive\n",
       "2626       NaN   645483.0    FP   0.857888  False Positive\n",
       "2627       NaN   646091.0    FP   0.948910  False Positive\n",
       "2628       NaN   647876.0    FP   0.950633  False Positive\n",
       "2629       NaN   649254.0    FP   0.898795  False Positive\n",
       "\n",
       "[2630 rows x 5 columns]"
      ]
     },
     "execution_count": 9,
     "metadata": {},
     "output_type": "execute_result"
    }
   ],
   "source": [
    "df"
   ]
  },
  {
   "cell_type": "code",
   "execution_count": 15,
   "metadata": {},
   "outputs": [
    {
     "data": {
      "text/plain": [
       "<matplotlib.axes._subplots.AxesSubplot at 0x7f73d0e9a990>"
      ]
     },
     "execution_count": 15,
     "metadata": {},
     "output_type": "execute_result"
    },
    {
     "data": {
      "image/png": "[encoded data removed]",
      "text/plain": [
       "<Figure size 720x360 with 1 Axes>"
      ]
     },
     "metadata": {
      "needs_background": "light"
     },
     "output_type": "display_data"
    }
   ],
   "source": [
    "from matplotlib import pyplot as plt\n",
    "\n",
    "fig, ax = plt.subplots()\n",
    "fig.set_size_inches(10, 5)\n",
    "\n",
    "df.boxplot(\n",
    "    column='Certainty', by='Label', ax=ax,\n",
    "    flierprops=dict(markerfacecolor='b', marker='x'))\n",
    "\n",
    "ax.set_ylim(0,1)\n",
    "ax.set_xlabel(\"\")\n",
    "ax.set_title(\"Certainty in Different Beat Types\")\n",
    "fig.suptitle(\"\")\n",
    "\n",
    "ax"
   ]
  },
  {
   "cell_type": "code",
   "execution_count": 16,
   "metadata": {},
   "outputs": [],
   "source": [
    "fig.savefig(\n",
    "    '../generated/figures/impact_beat_type.pdf',\n",
    "    format='pdf',\n",
    "    bbox_inches = 'tight',\n",
    "    pad_inches = 0.1)"
   ]
  },
  {
   "cell_type": "code",
   "execution_count": 13,
   "metadata": {},
   "outputs": [
    {
     "name": "stdout",
     "output_type": "stream",
     "text": [
      "Ttest_indResult(statistic=9.632542243390333, pvalue=1.8062032006926407e-21)\n",
      "Ttest_indResult(statistic=-16.536566154254746, pvalue=2.0877376800388202e-54)\n"
     ]
    }
   ],
   "source": [
    "from scipy.stats import ttest_ind\n",
    "\n",
    "print(ttest_ind(\n",
    "    df[df.Label == 'Normal Beat'].Certainty,\n",
    "    df[df.Label == 'Premature Ventricular Contraction'].Certainty,\n",
    "    nan_policy='omit'))\n",
    "\n",
    "print(ttest_ind(\n",
    "    df[df.Label == 'False Positive'].Certainty,\n",
    "    df[df.Label == 'Premature Ventricular Contraction'].Certainty,\n",
    "    nan_policy='omit'))"
   ]
  },
  {
   "cell_type": "code",
   "execution_count": null,
   "metadata": {},
   "outputs": [],
   "source": []
  }
 ],
 "metadata": {
  "kernelspec": {
   "display_name": "Python 3",
   "language": "python",
   "name": "python3"
  },
  "language_info": {
   "codemirror_mode": {
    "name": "ipython",
    "version": 3
   },
   "file_extension": ".py",
   "mimetype": "text/x-python",
   "name": "python",
   "nbconvert_exporter": "python",
   "pygments_lexer": "ipython3",
   "version": "3.7.5"
  }
 },
 "nbformat": 4,
 "nbformat_minor": 4
}
