{
 "cells": [
  {
   "cell_type": "markdown",
   "metadata": {},
   "source": [
    "# Certainty with Plateau Width"
   ]
  },
  {
   "cell_type": "code",
   "execution_count": 1,
   "metadata": {},
   "outputs": [],
   "source": [
    "import sys\n",
    "sys.path.append('..')"
   ]
  },
  {
   "cell_type": "markdown",
   "metadata": {},
   "source": [
    "## Load Data"
   ]
  },
  {
   "cell_type": "code",
   "execution_count": 2,
   "metadata": {},
   "outputs": [],
   "source": [
    "import wfdb\n",
    "\n",
    "def read_record(path, sampto=None):\n",
    "    record = wfdb.rdrecord(path, sampto=sampto)\n",
    "    annotation = wfdb.rdann(path, 'atr', sampto=sampto)\n",
    "    trigger = trigger_points(annotation)\n",
    "    return record, trigger\n",
    "\n",
    "def read_records(directory, names, sampto=None):\n",
    "    records, triggers = [], []\n",
    "    for name in names:\n",
    "        path = \"/\".join([directory, name])\n",
    "        record, trigger = read_record(path, sampto)\n",
    "        records.append(record)\n",
    "        triggers.append(trigger)\n",
    "    return records, triggers"
   ]
  },
  {
   "cell_type": "code",
   "execution_count": 3,
   "metadata": {},
   "outputs": [],
   "source": [
    "import numpy as np\n",
    "from raccoon.utils.annotationutils import trigger_points\n",
    "\n",
    "# Clean ECG Signals\n",
    "signal_dir = \"../physionet.org/files/mitdb/1.0.0\"\n",
    "names = np.array([\n",
    "    \"100\", \"101\", \"102\", \"103\", \"104\", \"105\", \"106\", \"107\", \"108\", \"109\"\n",
    "])\n",
    "sampto = 10000\n",
    "\n",
    "clean_records, triggers = read_records(signal_dir, names, sampto)\n",
    "clean_records, triggers = np.array(clean_records), np.array(triggers)\n",
    "\n",
    "# Noise template\n",
    "noise_path = '../physionet.org/files/nstdb/1.0.0/em'\n",
    "noise_template = wfdb.rdrecord(noise_path)"
   ]
  },
  {
   "cell_type": "markdown",
   "metadata": {},
   "source": [
    "## Add Noise"
   ]
  },
  {
   "cell_type": "code",
   "execution_count": 4,
   "metadata": {},
   "outputs": [],
   "source": [
    "from raccoon.utils.noiseutils import apply_noise_db\n",
    "\n",
    "snr = 3\n",
    "\n",
    "noisy_records = np.array([\n",
    "    apply_noise_db(clean_record, noise_template, snr)\n",
    "    for clean_record in clean_records])"
   ]
  },
  {
   "cell_type": "markdown",
   "metadata": {},
   "source": [
    "## Create Detector"
   ]
  },
  {
   "cell_type": "code",
   "execution_count": 5,
   "metadata": {
    "scrolled": true
   },
   "outputs": [
    {
     "name": "stderr",
     "output_type": "stream",
     "text": [
      "Using TensorFlow backend.\n"
     ]
    },
    {
     "name": "stdout",
     "output_type": "stream",
     "text": [
      "WARNING:tensorflow:From /home/Jonas.Chromik/.local/lib/python3.7/site-packages/tensorflow/python/framework/op_def_library.py:263: colocate_with (from tensorflow.python.framework.ops) is deprecated and will be removed in a future version.\n",
      "Instructions for updating:\n",
      "Colocations handled automatically by placer.\n"
     ]
    }
   ],
   "source": [
    "from raccoon.detectors import XiangDetector\n",
    "\n",
    "xd = XiangDetector(\n",
    "    name='XD', batch_size=32, window_size=40, detection_size=30,\n",
    "    aux_ratio=5, epochs=3)"
   ]
  },
  {
   "cell_type": "markdown",
   "metadata": {},
   "source": [
    "## Helpers"
   ]
  },
  {
   "cell_type": "code",
   "execution_count": 6,
   "metadata": {},
   "outputs": [],
   "source": [
    "def select_certain(trigger, certainty_threshold):\n",
    "    return [\n",
    "        trigger_point\n",
    "        for trigger_point, certainty in trigger\n",
    "        if certainty >= certainty_threshold]"
   ]
  },
  {
   "cell_type": "markdown",
   "metadata": {},
   "source": [
    "## Train and Test"
   ]
  },
  {
   "cell_type": "code",
   "execution_count": 7,
   "metadata": {},
   "outputs": [
    {
     "name": "stdout",
     "output_type": "stream",
     "text": [
      "Step 1/10: [0]\n",
      "WARNING:tensorflow:From /home/Jonas.Chromik/.local/lib/python3.7/site-packages/tensorflow/python/ops/math_ops.py:3066: to_int32 (from tensorflow.python.ops.math_ops) is deprecated and will be removed in a future version.\n",
      "Instructions for updating:\n",
      "Use tf.cast instead.\n",
      "Step 2/10: [1]\n",
      "Step 3/10: [2]\n",
      "Step 4/10: [3]\n",
      "Step 5/10: [4]\n",
      "Step 6/10: [5]\n",
      "Step 7/10: [6]\n",
      "Step 8/10: [7]\n",
      "Step 9/10: [8]\n",
      "Step 10/10: [9]\n"
     ]
    }
   ],
   "source": [
    "from collections import defaultdict\n",
    "from contextlib import redirect_stdout\n",
    "from io import StringIO\n",
    "from sklearn.model_selection import LeaveOneOut\n",
    "from raccoon.utils.evaluationutils import trigger_metrics\n",
    "from raccoon.utils.triggerutils import signal_to_points\n",
    "\n",
    "spike_widths = [0, 30]\n",
    "certainty_thresholds = np.arange(0., 1.1, .1)\n",
    "metrics = defaultdict(list)\n",
    "\n",
    "cv = LeaveOneOut()\n",
    "\n",
    "for step_id, (train_indexes, test_indexes) in enumerate(cv.split(names), start=1):\n",
    "    print(\"Step {}/{}: {}\".format(step_id, cv.get_n_splits(names), test_indexes))\n",
    "    \n",
    "    # Training\n",
    "    train_records = clean_records[train_indexes]\n",
    "    train_triggers = triggers[train_indexes]\n",
    "    xd.reset()\n",
    "    with redirect_stdout(StringIO()):\n",
    "        xd.train(train_records, train_triggers)\n",
    "\n",
    "    # Testing\n",
    "    for spike_width in spike_widths:\n",
    "        test_record = noisy_records[test_indexes][0]\n",
    "        test_trigger = triggers[test_indexes][0]\n",
    "    \n",
    "        trigger_signal = xd.trigger_signal(test_record)\n",
    "        detected_trigger = list(zip(\n",
    "            *signal_to_points(\n",
    "                trigger_signal, threshold=0.05, with_certainty=True,\n",
    "                spike_width=None if spike_width == 0 else spike_width )))\n",
    "    \n",
    "        certain_triggers = [\n",
    "            select_certain(detected_trigger, certainty_threshold)\n",
    "            for certainty_threshold in certainty_thresholds]\n",
    "    \n",
    "        metrics[spike_width].append([\n",
    "            trigger_metrics(test_trigger, certain_trigger, 5)\n",
    "            for certain_trigger in certain_triggers])"
   ]
  },
  {
   "cell_type": "markdown",
   "metadata": {},
   "source": [
    "## Calculate Statistics"
   ]
  },
  {
   "cell_type": "code",
   "execution_count": 8,
   "metadata": {},
   "outputs": [],
   "source": [
    "from raccoon.utils.evaluationutils import sensitivity, ppv, f1\n",
    "\n",
    "counts, ses, ppvs, f1s = {}, {}, {}, {}\n",
    "\n",
    "for spike_width in spike_widths:\n",
    "    counts[spike_width] = np.array([\n",
    "        [tp+fp for tp, tn, fp, fn in test_result]\n",
    "        for test_result in metrics[spike_width]])\n",
    "\n",
    "    ses[spike_width] = np.array([\n",
    "        [sensitivity(tp, fn) for tp, tn, fp, fn in test_result]\n",
    "        for test_result in metrics[spike_width]])\n",
    "\n",
    "    ppvs[spike_width] = np.array([\n",
    "        [ppv(tp, fp) for tp, tn, fp, fn in test_result]\n",
    "        for test_result in metrics[spike_width]])\n",
    "\n",
    "    f1s[spike_width] = np.array([\n",
    "        [f1(tp, fp, fn) for tp, tn, fp, fn in test_result]\n",
    "        for test_result in metrics[spike_width]])"
   ]
  },
  {
   "cell_type": "code",
   "execution_count": 9,
   "metadata": {},
   "outputs": [
    {
     "name": "stderr",
     "output_type": "stream",
     "text": [
      "/home/Jonas.Chromik/.local/lib/python3.7/site-packages/numpy/lib/function_base.py:4033: RuntimeWarning: All-NaN slice encountered\n",
      "  r = func(a, **kwargs)\n",
      "/home/Jonas.Chromik/.local/lib/python3.7/site-packages/numpy/lib/nanfunctions.py:1172: RuntimeWarning: All-NaN slice encountered\n",
      "  overwrite_input, interpolation)\n"
     ]
    }
   ],
   "source": [
    "count_medians, se_medians, ppv_medians, f1_medians = {}, {}, {}, {}\n",
    "count_percentiles, se_percentiles, ppv_percentiles, f1_percentiles = {}, {}, {}, {}\n",
    "\n",
    "for spike_width in spike_widths:\n",
    "    count_medians[spike_width] = np.nanmedian(counts[spike_width], axis=0)\n",
    "    count_percentiles[spike_width] = [\n",
    "        count_medians[spike_width] - np.nanpercentile(counts[spike_width], 25, axis=0),\n",
    "        np.nanpercentile(counts[spike_width], 75, axis=0) - count_medians[spike_width]]\n",
    "\n",
    "    se_medians[spike_width] = np.nanmedian(ses[spike_width], axis=0)\n",
    "    se_percentiles[spike_width] = [\n",
    "        se_medians[spike_width] - np.nanpercentile(ses[spike_width], 25, axis=0),\n",
    "        np.nanpercentile(ses[spike_width], 75, axis=0) - se_medians[spike_width]]\n",
    "\n",
    "    ppv_medians[spike_width] = np.nanmedian(ppvs[spike_width], axis=0)\n",
    "    ppv_percentiles[spike_width] = [\n",
    "        ppv_medians[spike_width] - np.nanpercentile(ppvs[spike_width], 25, axis=0),\n",
    "        np.nanpercentile(ppvs[spike_width], 75, axis=0) - ppv_medians[spike_width]]\n",
    "\n",
    "    f1_medians[spike_width] = np.nanmedian(f1s[spike_width], axis=0)\n",
    "    f1_percentiles[spike_width] = [\n",
    "        f1_medians[spike_width] - np.nanpercentile(f1s[spike_width], 25, axis=0),\n",
    "        np.nanpercentile(f1s[spike_width], 75, axis=0) - f1_medians[spike_width]]"
   ]
  },
  {
   "cell_type": "markdown",
   "metadata": {},
   "source": [
    "## Plot"
   ]
  },
  {
   "cell_type": "code",
   "execution_count": 10,
   "metadata": {
    "scrolled": true
   },
   "outputs": [
    {
     "data": {
      "image/png": "[encoded data removed]",
      "text/plain": [
       "<Figure size 1440x360 with 3 Axes>"
      ]
     },
     "metadata": {
      "needs_background": "light"
     },
     "output_type": "display_data"
    }
   ],
   "source": [
    "import matplotlib.pyplot as plt\n",
    "\n",
    "plt.rcParams.update({'font.size': 16})\n",
    "\n",
    "fig_perf_mutli, (ax_se, ax_ppv, ax_f1) = plt.subplots(ncols=3, sharey=True)\n",
    "fig_perf_mutli.set_size_inches(20,5)\n",
    "\n",
    "ax_se.set_ylabel(\"Se\")\n",
    "ax_ppv.set_ylabel(\"PPV\")\n",
    "ax_f1.set_ylabel(\"F1\")\n",
    "\n",
    "ax_se.set_xlabel(r\"$ct$\")\n",
    "ax_ppv.set_xlabel(r\"$ct$\")\n",
    "ax_f1.set_xlabel(r\"$ct$\")\n",
    "\n",
    "ax_se.set_xticks(certainty_thresholds)\n",
    "ax_ppv.set_xticks(certainty_thresholds)\n",
    "ax_f1.set_xticks(certainty_thresholds)\n",
    "\n",
    "# Without expected plateau width\n",
    "ax_se.plot(certainty_thresholds, se_medians[0], label=\"classic certainty\")\n",
    "ax_ppv.plot(certainty_thresholds, ppv_medians[0])\n",
    "ax_f1.plot(certainty_thresholds, f1_medians[0])\n",
    "\n",
    "# Without expected plateau width\n",
    "ax_se.plot(certainty_thresholds, se_medians[30], label=\"novel certainty\")\n",
    "ax_ppv.plot(certainty_thresholds, ppv_medians[30])\n",
    "ax_f1.plot(certainty_thresholds, f1_medians[30])\n",
    "\n",
    "fig_perf_mutli.legend(bbox_to_anchor=(.5, .5))\n",
    "    \n",
    "plt.show()"
   ]
  },
  {
   "cell_type": "code",
   "execution_count": 11,
   "metadata": {},
   "outputs": [
    {
     "data": {
      "image/png": "[encoded data removed]",
      "text/plain": [
       "<Figure size 1080x360 with 1 Axes>"
      ]
     },
     "metadata": {
      "needs_background": "light"
     },
     "output_type": "display_data"
    }
   ],
   "source": [
    "ctdm_multi, ax = plt.subplots()\n",
    "ctdm_multi.set_size_inches(15, 5)\n",
    "\n",
    "ax.plot(certainty_thresholds, count_medians[0], label=\"classic certainty\")\n",
    "ax.plot(certainty_thresholds, count_medians[30], label=\"novel certainty\")\n",
    "\n",
    "ax.set_xticks(certainty_thresholds)\n",
    "ax.set_xlabel(r\"$ct$\")\n",
    "ax.set_ylabel(r\"$\\#_{DTP}$\")\n",
    "\n",
    "ctdm_multi.legend(bbox_to_anchor=(.5, .4))\n",
    "\n",
    "plt.show()"
   ]
  },
  {
   "cell_type": "code",
   "execution_count": 12,
   "metadata": {},
   "outputs": [],
   "source": [
    "save = True\n",
    "\n",
    "if save:\n",
    "    fig_perf_mutli.savefig(\n",
    "        '../generated/figures/certainty_plateau_width_low_threshold_performance.pdf',\n",
    "        format='pdf',\n",
    "        bbox_inches = 'tight',\n",
    "        pad_inches = 0.1)\n",
    "    ctdm_multi.savefig(\n",
    "        '../generated/figures/certainty_plateau_width_low_threshold_ctdm.pdf',\n",
    "        format='pdf',\n",
    "        bbox_inches = 'tight',\n",
    "        pad_inches = 0.1)"
   ]
  },
  {
   "cell_type": "code",
   "execution_count": null,
   "metadata": {},
   "outputs": [],
   "source": []
  }
 ],
 "metadata": {
  "kernelspec": {
   "display_name": "Python 3",
   "language": "python",
   "name": "python3"
  },
  "language_info": {
   "codemirror_mode": {
    "name": "ipython",
    "version": 3
   },
   "file_extension": ".py",
   "mimetype": "text/x-python",
   "name": "python",
   "nbconvert_exporter": "python",
   "pygments_lexer": "ipython3",
   "version": "3.7.5"
  },
  "toc": {
   "base_numbering": 1,
   "nav_menu": {},
   "number_sections": false,
   "sideBar": true,
   "skip_h1_title": false,
   "title_cell": "Table of Contents",
   "title_sidebar": "Contents",
   "toc_cell": false,
   "toc_position": {
    "height": "calc(100% - 180px)",
    "left": "10px",
    "top": "150px",
    "width": "312px"
   },
   "toc_section_display": true,
   "toc_window_display": true
  },
  "varInspector": {
   "cols": {
    "lenName": 16,
    "lenType": 16,
    "lenVar": 40
   },
   "kernels_config": {
    "python": {
     "delete_cmd_postfix": "",
     "delete_cmd_prefix": "del ",
     "library": "var_list.py",
     "varRefreshCmd": "print(var_dic_list())"
    },
    "r": {
     "delete_cmd_postfix": ") ",
     "delete_cmd_prefix": "rm(",
     "library": "var_list.r",
     "varRefreshCmd": "cat(var_dic_list()) "
    }
   },
   "position": {
    "height": "697.85px",
    "left": "1550px",
    "right": "20px",
    "top": "120px",
    "width": "350px"
   },
   "types_to_exclude": [
    "module",
    "function",
    "builtin_function_or_method",
    "instance",
    "_Feature"
   ],
   "window_display": true
  }
 },
 "nbformat": 4,
 "nbformat_minor": 4
}
