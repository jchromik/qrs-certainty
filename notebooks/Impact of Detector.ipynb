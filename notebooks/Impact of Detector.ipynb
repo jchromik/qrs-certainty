{
 "cells": [
  {
   "cell_type": "code",
   "execution_count": 1,
   "metadata": {},
   "outputs": [],
   "source": [
    "import sys\n",
    "sys.path.append(\"..\")"
   ]
  },
  {
   "cell_type": "code",
   "execution_count": 2,
   "metadata": {},
   "outputs": [],
   "source": [
    "import wfdb\n",
    "\n",
    "from raccoon.utils.annotationutils import trigger_points\n",
    "\n",
    "def read_record(path, sampto):\n",
    "    record = wfdb.rdrecord(path, sampto=sampto)\n",
    "    annotation = wfdb.rdann(path, 'atr', sampto=sampto)\n",
    "    positions, labels = trigger_points(annotation, with_labels=True)\n",
    "    return record, positions, labels\n",
    "\n",
    "def read_records(directory, names, sampto):\n",
    "    records, positions, labels = [], [],  []\n",
    "    for name in names:\n",
    "        path = \"/\".join([directory, name])\n",
    "        record, pos, labs = read_record(path, sampto)\n",
    "        records.append(record)\n",
    "        positions.append(pos)\n",
    "        labels.append(labs)\n",
    "    return records, positions, labels"
   ]
  },
  {
   "cell_type": "code",
   "execution_count": 3,
   "metadata": {},
   "outputs": [],
   "source": [
    "record_dir = \"../physionet.org/files/mitdb/1.0.0\"\n",
    "test_path = '/'.join([record_dir, '106'])\n",
    "train_names = [\"100\", \"101\", \"102\", \"103\", \"104\"]\n",
    "sampto = 10000\n",
    "\n",
    "train_records, train_positions, train_labels = read_records(record_dir, train_names, sampto)\n",
    "test_record, test_positions, test_labels = read_record(test_path, sampto)"
   ]
  },
  {
   "cell_type": "code",
   "execution_count": 18,
   "metadata": {},
   "outputs": [],
   "source": [
    "from raccoon.detectors import GarciaBerdonesDetector, SarlijaDetector, XiangDetector\n",
    "\n",
    "gbd = GarciaBerdonesDetector(\n",
    "    name = \"Garcia-Berdones\",\n",
    "    batch_size = 32,\n",
    "    window_size = 20,\n",
    "    epochs = 3)\n",
    "\n",
    "sd = SarlijaDetector(\n",
    "    name = \"Sarlija\",\n",
    "    batch_size = 32,\n",
    "    window_size = 40,\n",
    "    detection_size=20,\n",
    "    epochs = 3)\n",
    "\n",
    "xd = XiangDetector(\n",
    "    name='Xiang',\n",
    "    batch_size=32,\n",
    "    window_size=40,\n",
    "    detection_size=20,\n",
    "    aux_ratio=5,\n",
    "    epochs=3)"
   ]
  },
  {
   "cell_type": "code",
   "execution_count": 19,
   "metadata": {
    "scrolled": true
   },
   "outputs": [
    {
     "name": "stdout",
     "output_type": "stream",
     "text": [
      "Epoch 1/3\n",
      "1559/1559 [==============================] - 3s 2ms/step - loss: 0.0899\n",
      "Epoch 2/3\n",
      "1559/1559 [==============================] - 2s 1ms/step - loss: 0.0406\n",
      "Epoch 3/3\n",
      "1559/1559 [==============================] - 2s 1ms/step - loss: 0.0370\n",
      "Epoch 1/3\n",
      "1556/1556 [==============================] - 11s 7ms/step - loss: 0.1119\n",
      "Epoch 2/3\n",
      "Epoch 1/3\n",
      "1556/1556 [==============================] - 11s 7ms/step - loss: 0.0689\n",
      "Epoch 3/3\n",
      "1556/1556 [==============================] - 11s 7ms/step - loss: 0.0614\n",
      "Epoch 3/3\n",
      "Epoch 1/3\n",
      "1556/1556 [==============================] - 4s 3ms/step - loss: 0.0841\n",
      "Epoch 2/3\n",
      "\n",
      "1556/1556 [==============================] - 4s 3ms/step - loss: 0.0240\n",
      "Epoch 3/3\n",
      "1556/1556 [==============================] - 4s 3ms/step - loss: 0.0218\n"
     ]
    }
   ],
   "source": [
    "gbd.train(train_records, train_positions)\n",
    "sd.train(train_records, train_positions)\n",
    "xd.train(train_records, train_positions)"
   ]
  },
  {
   "cell_type": "code",
   "execution_count": 20,
   "metadata": {},
   "outputs": [],
   "source": [
    "gbd_ts = gbd.trigger_signal(test_record)\n",
    "sd_ts = sd.trigger_signal(test_record)\n",
    "xd_ts = xd.trigger_signal(test_record)"
   ]
  },
  {
   "cell_type": "code",
   "execution_count": 21,
   "metadata": {},
   "outputs": [],
   "source": [
    "from raccoon.utils.triggerutils import signal_to_points\n",
    "\n",
    "gbd_dets, gbd_certs = signal_to_points(gbd_ts, with_certainty=True)\n",
    "sd_dets, sd_certs = signal_to_points(sd_ts, with_certainty=True)\n",
    "xd_dets, xd_certs = signal_to_points(xd_ts, with_certainty=True)"
   ]
  },
  {
   "cell_type": "code",
   "execution_count": 22,
   "metadata": {},
   "outputs": [],
   "source": [
    "from itertools import repeat\n",
    "import pandas as pd\n",
    "\n",
    "df = pd.concat([\n",
    "    pd.DataFrame(zip(gbd_dets, gbd_certs, repeat(gbd.name))),\n",
    "    pd.DataFrame(zip(sd_dets, sd_certs, repeat(sd.name))),\n",
    "    pd.DataFrame(zip(xd_dets, xd_certs, repeat(xd.name)))])\n",
    "\n",
    "df.columns = ['Position', 'Certainty', 'Detector']"
   ]
  },
  {
   "cell_type": "code",
   "execution_count": 23,
   "metadata": {},
   "outputs": [
    {
     "data": {
      "text/plain": [
       "<matplotlib.axes._subplots.AxesSubplot at 0x7ff990332ed0>"
      ]
     },
     "execution_count": 23,
     "metadata": {},
     "output_type": "execute_result"
    },
    {
     "data": {
      "image/png": "[encoded data removed]",
      "text/plain": [
       "<Figure size 720x360 with 1 Axes>"
      ]
     },
     "metadata": {
      "needs_background": "light"
     },
     "output_type": "display_data"
    }
   ],
   "source": [
    "from matplotlib import pyplot as plt\n",
    "\n",
    "fig, ax = plt.subplots()\n",
    "fig.set_size_inches(10, 5)\n",
    "\n",
    "df.boxplot(\n",
    "    column='Certainty', by='Detector', ax=ax,\n",
    "    flierprops=dict(markerfacecolor='b', marker='x'))\n",
    "\n",
    "ax.set_ylim(0.9,1)\n",
    "ax.set_xlabel(\"\")\n",
    "ax.set_title(\"Certainty in Different Detectors\")\n",
    "fig.suptitle(\"\")\n",
    "\n",
    "ax"
   ]
  },
  {
   "cell_type": "code",
   "execution_count": 14,
   "metadata": {},
   "outputs": [],
   "source": [
    "fig.savefig(\n",
    "    '../generated/figures/impact_detector.pdf',\n",
    "    format='pdf',\n",
    "    bbox_inches = 'tight',\n",
    "    pad_inches = 0.1)"
   ]
  },
  {
   "cell_type": "code",
   "execution_count": 13,
   "metadata": {},
   "outputs": [
    {
     "name": "stdout",
     "output_type": "stream",
     "text": [
      "Ttest_indResult(statistic=9.632542243390333, pvalue=1.8062032006926407e-21)\n",
      "Ttest_indResult(statistic=-16.536566154254746, pvalue=2.0877376800388202e-54)\n"
     ]
    }
   ],
   "source": [
    "from scipy.stats import ttest_ind\n",
    "\n",
    "print(ttest_ind(\n",
    "    df[df.Label == 'Normal Beat'].Certainty,\n",
    "    df[df.Label == 'Premature Ventricular Contraction'].Certainty,\n",
    "    nan_policy='omit'))\n",
    "\n",
    "print(ttest_ind(\n",
    "    df[df.Label == 'False Positive'].Certainty,\n",
    "    df[df.Label == 'Premature Ventricular Contraction'].Certainty,\n",
    "    nan_policy='omit'))"
   ]
  },
  {
   "cell_type": "code",
   "execution_count": null,
   "metadata": {},
   "outputs": [],
   "source": []
  }
 ],
 "metadata": {
  "kernelspec": {
   "display_name": "Python 3",
   "language": "python",
   "name": "python3"
  },
  "language_info": {
   "codemirror_mode": {
    "name": "ipython",
    "version": 3
   },
   "file_extension": ".py",
   "mimetype": "text/x-python",
   "name": "python",
   "nbconvert_exporter": "python",
   "pygments_lexer": "ipython3",
   "version": "3.7.5"
  }
 },
 "nbformat": 4,
 "nbformat_minor": 4
}
