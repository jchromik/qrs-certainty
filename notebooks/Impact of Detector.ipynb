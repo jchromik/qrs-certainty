{
 "cells": [
  {
   "cell_type": "code",
   "execution_count": 1,
   "metadata": {},
   "outputs": [],
   "source": [
    "import sys\n",
    "sys.path.append(\"..\")"
   ]
  },
  {
   "cell_type": "code",
   "execution_count": 2,
   "metadata": {},
   "outputs": [],
   "source": [
    "import wfdb\n",
    "\n",
    "from qrsc.utils.annotationutils import trigger_points\n",
    "\n",
    "def read_record(path, sampto):\n",
    "    record = wfdb.rdrecord(path, sampto=sampto)\n",
    "    annotation = wfdb.rdann(path, 'atr', sampto=sampto)\n",
    "    positions, labels = trigger_points(annotation, with_labels=True)\n",
    "    return record, positions, labels\n",
    "\n",
    "def read_records(directory, names, sampto):\n",
    "    records, positions, labels = [], [],  []\n",
    "    for name in names:\n",
    "        path = \"/\".join([directory, name])\n",
    "        record, pos, labs = read_record(path, sampto)\n",
    "        records.append(record)\n",
    "        positions.append(pos)\n",
    "        labels.append(labs)\n",
    "    return records, positions, labels"
   ]
  },
  {
   "cell_type": "code",
   "execution_count": 3,
   "metadata": {},
   "outputs": [],
   "source": [
    "record_dir = \"../physionet.org/files/mitdb/1.0.0\"\n",
    "test_path = '/'.join([record_dir, '106'])\n",
    "train_names = [\"100\", \"101\", \"102\", \"103\", \"104\"]\n",
    "sampto = None\n",
    "\n",
    "train_records, train_positions, train_labels = read_records(record_dir, train_names, sampto)\n",
    "test_record, test_positions, test_labels = read_record(test_path, sampto)"
   ]
  },
  {
   "cell_type": "code",
   "execution_count": 4,
   "metadata": {},
   "outputs": [
    {
     "name": "stderr",
     "output_type": "stream",
     "text": [
      "Using TensorFlow backend.\n",
      "/home/Jonas.Chromik/.local/lib/python3.7/site-packages/tensorflow/python/framework/dtypes.py:526: FutureWarning: Passing (type, 1) or '1type' as a synonym of type is deprecated; in a future version of numpy, it will be understood as (type, (1,)) / '(1,)type'.\n",
      "  _np_qint8 = np.dtype([(\"qint8\", np.int8, 1)])\n",
      "/home/Jonas.Chromik/.local/lib/python3.7/site-packages/tensorflow/python/framework/dtypes.py:527: FutureWarning: Passing (type, 1) or '1type' as a synonym of type is deprecated; in a future version of numpy, it will be understood as (type, (1,)) / '(1,)type'.\n",
      "  _np_quint8 = np.dtype([(\"quint8\", np.uint8, 1)])\n",
      "/home/Jonas.Chromik/.local/lib/python3.7/site-packages/tensorflow/python/framework/dtypes.py:528: FutureWarning: Passing (type, 1) or '1type' as a synonym of type is deprecated; in a future version of numpy, it will be understood as (type, (1,)) / '(1,)type'.\n",
      "  _np_qint16 = np.dtype([(\"qint16\", np.int16, 1)])\n",
      "/home/Jonas.Chromik/.local/lib/python3.7/site-packages/tensorflow/python/framework/dtypes.py:529: FutureWarning: Passing (type, 1) or '1type' as a synonym of type is deprecated; in a future version of numpy, it will be understood as (type, (1,)) / '(1,)type'.\n",
      "  _np_quint16 = np.dtype([(\"quint16\", np.uint16, 1)])\n",
      "/home/Jonas.Chromik/.local/lib/python3.7/site-packages/tensorflow/python/framework/dtypes.py:530: FutureWarning: Passing (type, 1) or '1type' as a synonym of type is deprecated; in a future version of numpy, it will be understood as (type, (1,)) / '(1,)type'.\n",
      "  _np_qint32 = np.dtype([(\"qint32\", np.int32, 1)])\n",
      "/home/Jonas.Chromik/.local/lib/python3.7/site-packages/tensorflow/python/framework/dtypes.py:535: FutureWarning: Passing (type, 1) or '1type' as a synonym of type is deprecated; in a future version of numpy, it will be understood as (type, (1,)) / '(1,)type'.\n",
      "  np_resource = np.dtype([(\"resource\", np.ubyte, 1)])\n"
     ]
    },
    {
     "name": "stdout",
     "output_type": "stream",
     "text": [
      "WARNING:tensorflow:From /home/Jonas.Chromik/.local/lib/python3.7/site-packages/tensorflow/python/framework/op_def_library.py:263: colocate_with (from tensorflow.python.framework.ops) is deprecated and will be removed in a future version.\n",
      "Instructions for updating:\n",
      "Colocations handled automatically by placer.\n",
      "WARNING:tensorflow:From /home/Jonas.Chromik/.local/lib/python3.7/site-packages/keras/backend/tensorflow_backend.py:3363: calling dropout (from tensorflow.python.ops.nn_ops) with keep_prob is deprecated and will be removed in a future version.\n",
      "Instructions for updating:\n",
      "Please use `rate` instead of `keep_prob`. Rate should be set to `rate = 1 - keep_prob`.\n"
     ]
    }
   ],
   "source": [
    "from qrsc.detectors import GarciaBerdonesDetector, SarlijaDetector, XiangDetector\n",
    "\n",
    "gbd = GarciaBerdonesDetector(\n",
    "    name = \"Garcia-Berdones\",\n",
    "    batch_size = 32,\n",
    "    window_size = 20,\n",
    "    epochs = 3)\n",
    "\n",
    "sd = SarlijaDetector(\n",
    "    name = \"Sarlija\",\n",
    "    batch_size = 32,\n",
    "    window_size = 40,\n",
    "    detection_size=20,\n",
    "    epochs = 3)\n",
    "\n",
    "xd = XiangDetector(\n",
    "    name='Xiang',\n",
    "    batch_size=32,\n",
    "    window_size=40,\n",
    "    detection_size=20,\n",
    "    aux_ratio=5,\n",
    "    epochs=3)"
   ]
  },
  {
   "cell_type": "code",
   "execution_count": 5,
   "metadata": {
    "scrolled": true
   },
   "outputs": [
    {
     "name": "stdout",
     "output_type": "stream",
     "text": [
      "WARNING:tensorflow:From /home/Jonas.Chromik/.local/lib/python3.7/site-packages/tensorflow/python/ops/math_ops.py:3066: to_int32 (from tensorflow.python.ops.math_ops) is deprecated and will be removed in a future version.\n",
      "Instructions for updating:\n",
      "Use tf.cast instead.\n",
      "Epoch 1/3\n",
      "60935/60935 [==============================] - 88s 1ms/step - loss: 0.0096\n",
      "Epoch 2/3\n",
      "60935/60935 [==============================] - 88s 1ms/step - loss: 0.0079\n",
      "Epoch 3/3\n",
      "60935/60935 [==============================] - 85s 1ms/step - loss: 0.0080\n",
      "Epoch 1/3\n",
      "60933/60933 [==============================] - 413s 7ms/step - loss: 1.0292\n",
      "Epoch 2/3\n",
      "60933/60933 [==============================] - 435s 7ms/step - loss: 1.0292\n",
      "Epoch 3/3\n",
      "60933/60933 [==============================] - 421s 7ms/step - loss: 1.0292\n",
      "Epoch 1/3\n",
      "60933/60933 [==============================] - 149s 2ms/step - loss: 0.0069\n",
      "Epoch 2/3\n",
      "60933/60933 [==============================] - 145s 2ms/step - loss: 0.0041\n",
      "Epoch 3/3\n",
      "60933/60933 [==============================] - 144s 2ms/step - loss: 0.0040\n"
     ]
    }
   ],
   "source": [
    "gbd.train(train_records, train_positions)\n",
    "sd.train(train_records, train_positions)\n",
    "xd.train(train_records, train_positions)"
   ]
  },
  {
   "cell_type": "code",
   "execution_count": 6,
   "metadata": {},
   "outputs": [],
   "source": [
    "gbd_ts = gbd.trigger_signal(test_record)\n",
    "sd_ts = sd.trigger_signal(test_record)\n",
    "xd_ts = xd.trigger_signal(test_record)"
   ]
  },
  {
   "cell_type": "code",
   "execution_count": 7,
   "metadata": {},
   "outputs": [],
   "source": [
    "from qrsc.utils.triggerutils import signal_to_points\n",
    "\n",
    "gbd_dets, gbd_certs = signal_to_points(gbd_ts, with_certainty=True)\n",
    "sd_dets, sd_certs = signal_to_points(sd_ts, with_certainty=True)\n",
    "xd_dets, xd_certs = signal_to_points(xd_ts, with_certainty=True)"
   ]
  },
  {
   "cell_type": "code",
   "execution_count": 8,
   "metadata": {},
   "outputs": [],
   "source": [
    "from itertools import repeat\n",
    "import pandas as pd\n",
    "\n",
    "df = pd.concat([\n",
    "    pd.DataFrame(zip(gbd_dets, gbd_certs, repeat(gbd.name))),\n",
    "    pd.DataFrame(zip(sd_dets, sd_certs, repeat(sd.name))),\n",
    "    pd.DataFrame(zip(xd_dets, xd_certs, repeat(xd.name)))])\n",
    "\n",
    "df.columns = ['Position', 'Certainty', 'Detector']"
   ]
  },
  {
   "cell_type": "code",
   "execution_count": 9,
   "metadata": {},
   "outputs": [
    {
     "name": "stderr",
     "output_type": "stream",
     "text": [
      "/home/Jonas.Chromik/.local/lib/python3.7/site-packages/numpy/core/_asarray.py:83: VisibleDeprecationWarning: Creating an ndarray from ragged nested sequences (which is a list-or-tuple of lists-or-tuples-or ndarrays with different lengths or shapes) is deprecated. If you meant to do this, you must specify 'dtype=object' when creating the ndarray\n",
      "  return array(a, dtype, copy=False, order=order)\n"
     ]
    },
    {
     "data": {
      "text/plain": [
       "<matplotlib.axes._subplots.AxesSubplot at 0x7f45533455d0>"
      ]
     },
     "execution_count": 9,
     "metadata": {},
     "output_type": "execute_result"
    },
    {
     "data": {
      "image/png": "[encoded data removed]",
      "text/plain": [
       "<Figure size 720x360 with 1 Axes>"
      ]
     },
     "metadata": {
      "needs_background": "light"
     },
     "output_type": "display_data"
    }
   ],
   "source": [
    "from matplotlib import pyplot as plt\n",
    "\n",
    "fig, ax = plt.subplots()\n",
    "fig.set_size_inches(10, 5)\n",
    "\n",
    "df.boxplot(\n",
    "    column='Certainty', by='Detector', ax=ax,\n",
    "    showfliers=False)\n",
    "\n",
    "ax.set_ylim(0.8,1)\n",
    "ax.set_xlabel(\"\")\n",
    "ax.set_title(\"Certainty in Different Detectors\")\n",
    "fig.suptitle(\"\")\n",
    "\n",
    "ax"
   ]
  },
  {
   "cell_type": "code",
   "execution_count": 10,
   "metadata": {},
   "outputs": [],
   "source": [
    "# fig.savefig('../generated/figures/impact_detector.pdf', format='pdf', bbox_inches = 'tight', pad_inches = 0.1)"
   ]
  },
  {
   "cell_type": "code",
   "execution_count": null,
   "metadata": {},
   "outputs": [],
   "source": []
  }
 ],
 "metadata": {
  "kernelspec": {
   "display_name": "Python 3",
   "language": "python",
   "name": "python3"
  },
  "language_info": {
   "codemirror_mode": {
    "name": "ipython",
    "version": 3
   },
   "file_extension": ".py",
   "mimetype": "text/x-python",
   "name": "python",
   "nbconvert_exporter": "python",
   "pygments_lexer": "ipython3",
   "version": "3.7.5"
  }
 },
 "nbformat": 4,
 "nbformat_minor": 4
}
