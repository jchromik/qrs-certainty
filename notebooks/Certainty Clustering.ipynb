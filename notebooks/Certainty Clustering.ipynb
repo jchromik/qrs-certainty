{
 "cells": [
  {
   "cell_type": "markdown",
   "metadata": {},
   "source": [
    "# Certainty Threshold Analysis"
   ]
  },
  {
   "cell_type": "code",
   "execution_count": 1,
   "metadata": {},
   "outputs": [],
   "source": [
    "import sys\n",
    "sys.path.append('..')"
   ]
  },
  {
   "cell_type": "markdown",
   "metadata": {},
   "source": [
    "## Load Data"
   ]
  },
  {
   "cell_type": "code",
   "execution_count": 2,
   "metadata": {},
   "outputs": [],
   "source": [
    "import wfdb\n",
    "\n",
    "def read_record(path, sampto=None):\n",
    "    record = wfdb.rdrecord(path, sampto=sampto)\n",
    "    annotation = wfdb.rdann(path, 'atr', sampto=sampto)\n",
    "    trigger = trigger_points(annotation)\n",
    "    return record, trigger\n",
    "\n",
    "def read_records(directory, names, sampto=None):\n",
    "    records, triggers = [], []\n",
    "    for name in names:\n",
    "        path = \"/\".join([directory, name])\n",
    "        record, trigger = read_record(path, sampto)\n",
    "        records.append(record)\n",
    "        triggers.append(trigger)\n",
    "    return records, triggers"
   ]
  },
  {
   "cell_type": "code",
   "execution_count": 3,
   "metadata": {},
   "outputs": [],
   "source": [
    "import numpy as np\n",
    "from raccoon.utils.annotationutils import trigger_points\n",
    "\n",
    "# Clean ECG Signals\n",
    "signal_dir = \"../physionet.org/files/mitdb/1.0.0\"\n",
    "names = np.array([\n",
    "    \"100\", \"101\", \"102\", \"103\", \"104\", \"105\", \"106\", \"107\", \"108\", \"109\"\n",
    "])\n",
    "sampto = 10000\n",
    "\n",
    "clean_records, triggers = read_records(signal_dir, names, sampto)\n",
    "clean_records, triggers = np.array(clean_records), np.array(triggers)\n",
    "\n",
    "# Noise template\n",
    "noise_path = '../physionet.org/files/nstdb/1.0.0/em'\n",
    "noise_template = wfdb.rdrecord(noise_path)"
   ]
  },
  {
   "cell_type": "markdown",
   "metadata": {},
   "source": [
    "## Add Noise"
   ]
  },
  {
   "cell_type": "code",
   "execution_count": 4,
   "metadata": {},
   "outputs": [],
   "source": [
    "from raccoon.utils.noiseutils import apply_noise_db\n",
    "\n",
    "snr = 6\n",
    "\n",
    "noisy_records = np.array([\n",
    "    apply_noise_db(clean_record, noise_template, snr)\n",
    "    for clean_record in clean_records])"
   ]
  },
  {
   "cell_type": "markdown",
   "metadata": {},
   "source": [
    "## Create Detector"
   ]
  },
  {
   "cell_type": "code",
   "execution_count": 5,
   "metadata": {
    "scrolled": true
   },
   "outputs": [
    {
     "name": "stderr",
     "output_type": "stream",
     "text": [
      "Using TensorFlow backend.\n"
     ]
    },
    {
     "name": "stdout",
     "output_type": "stream",
     "text": [
      "WARNING:tensorflow:From /home/Jonas.Chromik/.local/lib/python3.7/site-packages/tensorflow/python/framework/op_def_library.py:263: colocate_with (from tensorflow.python.framework.ops) is deprecated and will be removed in a future version.\n",
      "Instructions for updating:\n",
      "Colocations handled automatically by placer.\n"
     ]
    }
   ],
   "source": [
    "from raccoon.detectors import XiangDetector\n",
    "\n",
    "xd = XiangDetector(\n",
    "    name='XD', batch_size=32, window_size=40, detection_size=30,\n",
    "    aux_ratio=5, epochs=3)"
   ]
  },
  {
   "cell_type": "markdown",
   "metadata": {},
   "source": [
    "## Helpers"
   ]
  },
  {
   "cell_type": "code",
   "execution_count": 6,
   "metadata": {},
   "outputs": [],
   "source": [
    "def tp_contained(tp, trigger, tolerance):\n",
    "    return any([abs(tp-ttp) < tolerance for ttp in trigger])"
   ]
  },
  {
   "cell_type": "markdown",
   "metadata": {},
   "source": [
    "## Train and Test"
   ]
  },
  {
   "cell_type": "code",
   "execution_count": 7,
   "metadata": {},
   "outputs": [
    {
     "name": "stdout",
     "output_type": "stream",
     "text": [
      "Step 1/10: [0]\n",
      "WARNING:tensorflow:From /home/Jonas.Chromik/.local/lib/python3.7/site-packages/tensorflow/python/ops/math_ops.py:3066: to_int32 (from tensorflow.python.ops.math_ops) is deprecated and will be removed in a future version.\n",
      "Instructions for updating:\n",
      "Use tf.cast instead.\n",
      "Step 2/10: [1]\n",
      "Step 3/10: [2]\n",
      "Step 4/10: [3]\n",
      "Step 5/10: [4]\n",
      "Step 6/10: [5]\n",
      "Step 7/10: [6]\n",
      "Step 8/10: [7]\n",
      "Step 9/10: [8]\n",
      "Step 10/10: [9]\n"
     ]
    }
   ],
   "source": [
    "from collections import defaultdict\n",
    "from contextlib import redirect_stdout\n",
    "from io import StringIO\n",
    "from sklearn.model_selection import LeaveOneOut\n",
    "from raccoon.utils.evaluationutils import trigger_metrics\n",
    "from raccoon.utils.triggerutils import signal_to_points\n",
    "\n",
    "dtriggers, certs, trues = [], [], []\n",
    "cv = LeaveOneOut()\n",
    "\n",
    "for step_id, (train_indexes, test_indexes) in enumerate(cv.split(names), start=1):\n",
    "    print(\"Step {}/{}: {}\".format(step_id, cv.get_n_splits(names), test_indexes))\n",
    "    \n",
    "    # Training\n",
    "    train_records = clean_records[train_indexes]\n",
    "    train_triggers = triggers[train_indexes]\n",
    "    xd.reset()\n",
    "    with redirect_stdout(StringIO()):\n",
    "        xd.train(train_records, train_triggers)\n",
    "\n",
    "    # Testing\n",
    "    test_record = noisy_records[test_indexes][0]\n",
    "    test_trigger = triggers[test_indexes][0]\n",
    "\n",
    "    trigger_signal = xd.trigger_signal(test_record)\n",
    "    trigger, cert = signal_to_points(\n",
    "        trigger_signal, threshold=0.01, with_certainty=True)\n",
    "    dtriggers.append(trigger)\n",
    "    certs.append(cert)\n",
    "    trues.append([tp_contained(tp, test_trigger, 5) for tp in trigger])"
   ]
  },
  {
   "cell_type": "code",
   "execution_count": 8,
   "metadata": {},
   "outputs": [
    {
     "data": {
      "text/plain": [
       "Text(0.5,0,'Certainty')"
      ]
     },
     "execution_count": 8,
     "metadata": {},
     "output_type": "execute_result"
    },
    {
     "data": {
      "image/png": "[encoded data removed]",
      "text/plain": [
       "<Figure size 1152x576 with 10 Axes>"
      ]
     },
     "metadata": {
      "needs_background": "light"
     },
     "output_type": "display_data"
    }
   ],
   "source": [
    "import matplotlib.pyplot as plt\n",
    "from itertools import compress\n",
    "\n",
    "plt.rcParams.update({'font.size': 16})\n",
    "\n",
    "fig, axes = plt.subplots(nrows=10, sharex=True)\n",
    "fig.set_size_inches(16,8)\n",
    "\n",
    "for idx, ax in enumerate(axes):\n",
    "    cert_true = list(compress(certs[idx], trues[idx]))\n",
    "    cert_false = list(compress(certs[idx], np.logical_not(trues[idx])))\n",
    "    \n",
    "    ax.scatter(cert_true, np.zeros_like(cert_true), c='green')\n",
    "    ax.scatter(cert_false, np.zeros_like(cert_false), c='red')\n",
    "    ax.set_xlim(0,1)\n",
    "    ax.set_yticks([])\n",
    "    \n",
    "axes[9].set_xlabel('Certainty')"
   ]
  },
  {
   "cell_type": "code",
   "execution_count": 9,
   "metadata": {},
   "outputs": [],
   "source": [
    "save = True \n",
    "\n",
    "if save:\n",
    "    fig.savefig(\n",
    "        '../generated/figures/ct_clusters.pdf',\n",
    "        format='pdf',\n",
    "        bbox_inches = 'tight',\n",
    "        pad_inches = 0.1)"
   ]
  },
  {
   "cell_type": "code",
   "execution_count": null,
   "metadata": {},
   "outputs": [],
   "source": []
  }
 ],
 "metadata": {
  "kernelspec": {
   "display_name": "Python 3",
   "language": "python",
   "name": "python3"
  },
  "language_info": {
   "codemirror_mode": {
    "name": "ipython",
    "version": 3
   },
   "file_extension": ".py",
   "mimetype": "text/x-python",
   "name": "python",
   "nbconvert_exporter": "python",
   "pygments_lexer": "ipython3",
   "version": "3.7.5"
  },
  "toc": {
   "base_numbering": 1,
   "nav_menu": {},
   "number_sections": false,
   "sideBar": true,
   "skip_h1_title": false,
   "title_cell": "Table of Contents",
   "title_sidebar": "Contents",
   "toc_cell": false,
   "toc_position": {
    "height": "calc(100% - 180px)",
    "left": "10px",
    "top": "150px",
    "width": "312px"
   },
   "toc_section_display": true,
   "toc_window_display": true
  },
  "varInspector": {
   "cols": {
    "lenName": 16,
    "lenType": 16,
    "lenVar": 40
   },
   "kernels_config": {
    "python": {
     "delete_cmd_postfix": "",
     "delete_cmd_prefix": "del ",
     "library": "var_list.py",
     "varRefreshCmd": "print(var_dic_list())"
    },
    "r": {
     "delete_cmd_postfix": ") ",
     "delete_cmd_prefix": "rm(",
     "library": "var_list.r",
     "varRefreshCmd": "cat(var_dic_list()) "
    }
   },
   "position": {
    "height": "697.85px",
    "left": "1550px",
    "right": "20px",
    "top": "120px",
    "width": "350px"
   },
   "types_to_exclude": [
    "module",
    "function",
    "builtin_function_or_method",
    "instance",
    "_Feature"
   ],
   "window_display": true
  }
 },
 "nbformat": 4,
 "nbformat_minor": 4
}
